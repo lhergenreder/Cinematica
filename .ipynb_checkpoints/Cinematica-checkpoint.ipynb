{
 "cells": [
  {
   "cell_type": "markdown",
   "metadata": {},
   "source": [
    "# Movimiento potencial\n",
    "## Función potencial\n",
    "La rotación simple es un movimiento característico que se produce cuando en el paralelepípedo elemental dos aristas cambian de orientación sin deformarse. En tal caso, cada partícula de fluido posee una cierta velocidad angular alrededor de su centro de masa, la cual se expresa por el vector rotación:\n",
    "\n",
    "\n",
    "$\n",
    "\\overrightarrow{\\omega} = \\frac{1}{2} \\overrightarrow{\\nabla} \\times \\overrightarrow{V} = \\frac{1}{2}rot(\\overrightarrow{V})\n",
    "$\n",
    "\n",
    "Un flujo es irrotacional, entonces, cuando se verifica $\\overrightarrow{\\omega} = 0$.\n",
    "Adicionalmente, todo flujo debe cumplir la condición de continuidad que, para un fluido incompresible, resulta:\n",
    "\n",
    "$\\overrightarrow{\\nabla} \\cdot \\overrightarrow{V} = div(\\overrightarrow{V}) = 0 $\n",
    "\n",
    "Todo campo de velocidades $\\overrightarrow{V}$ representativo de un escurrimiento irrotacional verifica:\n",
    "\n",
    "$\\overrightarrow{V} = \\nabla \\phi = grad(\\overrightarrow{V})$\n",
    "\n",
    "Siendo $\\phi$ una función escalar, denominada potencial, que cumple la condición de laplaciano nulo:\n",
    "\n",
    "$\\Delta \\phi = \\nabla ^{2} \\phi = 0$\n",
    "\n",
    "\n",
    "## Función de corriente\n",
    "En un escurrimiento irrotacional, permanente y bidimensional en el plano $xy$ la función de corriente $\\psi$ se define como aquella que cumple con las siguientes condiciones:\n",
    "\n",
    "$\\frac{\\partial{\\psi}}{\\partial y} = u \\\\\n",
    "\\frac{\\partial{\\psi}}{\\partial x} = -v$\n",
    "\n",
    "Luego, las líneas de corriente quedan determinadas para valores constantes de $\\psi$.\n",
    "\n",
    "Bajo estas condiciones, la relación entre funciones potenciales y de corriente queda determinada de la siguiente manera:\n",
    "\n",
    "$\\overrightarrow{V} = u \\hat{i} + v \\hat{j} = \\frac{\\partial{\\psi}}{\\partial y} \\hat{i} +  (-\\frac{\\partial{\\psi}}{\\partial x})  \\hat{j} = \\frac{\\partial{\\phi}}{\\partial x} \\hat{i} + \\frac{\\partial{\\phi}}{\\partial y} \\hat{j}$\n",
    "\n",
    "\n",
    "## Equipotenciales y líneas de corriente\n",
    "Las líneas equipotenciales y de corriente quedan definidas para valores constantes de $\\phi$ y $\\psi$, respectivamente. De esta manera, por definición de diferencia total puede escribirse:\n",
    "\n",
    "$\n",
    "d \\phi = \\frac{\\partial \\phi}{\\partial x}dx + \\frac{\\partial \\phi}{\\partial y}dy =\n",
    "u dx + v dy \\\\\n",
    "d \\psi = \\frac{\\partial \\psi}{\\partial x}dx + \\frac{\\partial \\psi}{\\partial y}dy =\n",
    "(-v)dx + u dy\n",
    "$\n",
    "\n",
    "Luego, las equipotenciales y líneas de corrientes surgen de las familias de curvas que cumplan:\n",
    "\n",
    "$\n",
    "d \\phi = u dx + v dy = 0 \\\\\n",
    "d \\psi = (-v)dx + u dy  = 0\n",
    "$"
   ]
  },
  {
   "cell_type": "markdown",
   "metadata": {},
   "source": [
    "## Movimientos potenciales simples \n",
    "A continuación se definen una serie de movimientos potenciales bidimensionales simples. En los gráficos interactivos se representan en gris los campos de velocidades $\\overrightarrow{V}$ definidos a partir de las componentes $u$ y $v$. Adicionalmente, haciendo click en el gráfico se representan en azul las líneas de corriente y en anaranjado las equipotenciales correspondientes a los puntos seleccionados."
   ]
  },
  {
   "cell_type": "code",
   "execution_count": 1,
   "metadata": {},
   "outputs": [],
   "source": [
    "# Importación de librerías\n",
    "import matplotlib.pylab as plt\n",
    "import numpy as np\n",
    "import ipywidgets as widgets\n",
    "from IPython.display import display\n",
    "%matplotlib nbagg"
   ]
  },
  {
   "cell_type": "code",
   "execution_count": 2,
   "metadata": {},
   "outputs": [],
   "source": [
    "# Definición del campo de velocidades\n",
    "# Generación de la grilla de graficación\n",
    "x=np.linspace(-5,5,500); y=np.linspace(0,5,500)\n",
    "X,Y=np.meshgrid(x,y)\n",
    "\n",
    "# Cálculo del campo de velocidades\n",
    "u = 3*np.ones(X.shape); v = 0*np.ones(Y.shape)"
   ]
  },
  {
   "cell_type": "code",
   "execution_count": 3,
   "metadata": {},
   "outputs": [
    {
     "data": {
      "image/png": "[encoded data removed]",
      "text/plain": [
       "<Figure size 432x288 with 1 Axes>"
      ]
     },
     "metadata": {
      "needs_background": "light"
     },
     "output_type": "display_data"
    }
   ],
   "source": [
    "f,a = plt.subplots()\n",
    "a.axis([-5, 5, 0, 5])\n",
    "a.streamplot(X,Y,u,v,density=1.5, color='#848587')\n",
    "pos = []\n",
    "def onclick(event):\n",
    "    pos.append([event.xdata,event.ydata])\n",
    "    a.plot(event.xdata,event.ydata,'ro')\n",
    "    a.plot(x,event.ydata*np.ones(x.shape),'b-')\n",
    "    a.plot(event.xdata*np.ones(y.shape),y, color='#f49b42')\n",
    "f.canvas.mpl_connect('button_press_event', onclick)\n",
    "f.show()"
   ]
  },
  {
   "cell_type": "code",
   "execution_count": null,
   "metadata": {},
   "outputs": [],
   "source": []
  }
 ],
 "metadata": {
  "kernelspec": {
   "display_name": "Python 3",
   "language": "python",
   "name": "python3"
  },
  "language_info": {
   "codemirror_mode": {
    "name": "ipython",
    "version": 3
   },
   "file_extension": ".py",
   "mimetype": "text/x-python",
   "name": "python",
   "nbconvert_exporter": "python",
   "pygments_lexer": "ipython3",
   "version": "3.7.2"
  }
 },
 "nbformat": 4,
 "nbformat_minor": 2
}
